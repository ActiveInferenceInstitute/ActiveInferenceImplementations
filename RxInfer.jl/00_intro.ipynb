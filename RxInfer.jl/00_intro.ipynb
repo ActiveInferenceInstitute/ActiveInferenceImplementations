{
 "cells": [
  {
   "cell_type": "markdown",
   "id": "064f77c4-463f-4e4b-b5a3-1a671cfb2118",
   "metadata": {},
   "source": [
    "# RxInfer.jl\n",
    "\n",
    "Getting Started docs: https://biaslab.github.io/RxInfer.jl/stable/manuals/getting-started/\n",
    "\n",
    "RxInfer.jl is a package for Bayesian Inference on Factor Graphs by Message Passing"
   ]
  },
  {
   "cell_type": "code",
   "execution_count": 3,
   "id": "848f7d13-dbba-4256-8ca3-be153d36f3aa",
   "metadata": {},
   "outputs": [
    {
     "name": "stderr",
     "output_type": "stream",
     "text": [
      "\u001b[32m\u001b[1m    Updating\u001b[22m\u001b[39m registry at `~/.julia/registries/General.toml`\n",
      "\u001b[32m\u001b[1m   Resolving\u001b[22m\u001b[39m package versions...\n",
      "\u001b[32m\u001b[1m    Updating\u001b[22m\u001b[39m `~/.julia/environments/v1.8/Project.toml`\n",
      " \u001b[90m [31c24e10] \u001b[39m\u001b[92m+ Distributions v0.25.77\u001b[39m\n",
      "\u001b[32m\u001b[1m  No Changes\u001b[22m\u001b[39m to `~/.julia/environments/v1.8/Manifest.toml`\n",
      "\u001b[32m\u001b[1m   Resolving\u001b[22m\u001b[39m package versions...\n",
      "\u001b[32m\u001b[1m    Updating\u001b[22m\u001b[39m `~/.julia/environments/v1.8/Project.toml`\n",
      " \u001b[90m [9a3f8284] \u001b[39m\u001b[92m+ Random\u001b[39m\n",
      "\u001b[32m\u001b[1m  No Changes\u001b[22m\u001b[39m to `~/.julia/environments/v1.8/Manifest.toml`\n"
     ]
    }
   ],
   "source": [
    "# remove comment if RxInfer not installed\n",
    "# using Pkg\n",
    "# Pkg.add(\"RxInfer\")\n",
    "import Pkg; Pkg.add(\"Distributions\")\n",
    "import Pkg; Pkg.add(\"Random\")"
   ]
  },
  {
   "cell_type": "code",
   "execution_count": 4,
   "id": "fa09a442-6af9-42f3-b03b-17d11dd1c118",
   "metadata": {},
   "outputs": [],
   "source": [
    "using RxInfer"
   ]
  },
  {
   "cell_type": "markdown",
   "id": "0b152377-e222-4d9e-b36c-e9e555d04cc3",
   "metadata": {},
   "source": [
    "## Inferring the bias of a coin\n",
    "\n",
    "|Topic|Resources|\n",
    "|---|---|\n",
    "|Bernoulli Distribution| https://en.wikipedia.org/wiki/Bernoulli_distribution |"
   ]
  },
  {
   "cell_type": "code",
   "execution_count": 4,
   "id": "6c3ca961-73d8-4d87-ac40-29514d19fce7",
   "metadata": {},
   "outputs": [],
   "source": [
    "using RxInfer, Distributions, Random"
   ]
  },
  {
   "cell_type": "code",
   "execution_count": 19,
   "id": "030b4889-36de-4302-b9e3-ccf1d64f5de4",
   "metadata": {},
   "outputs": [
    {
     "data": {
      "text/plain": [
       "10-element Vector{Float64}:\n",
       " 1.0\n",
       " 1.0\n",
       " 1.0\n",
       " 1.0\n",
       " 0.0\n",
       " 0.0\n",
       " 1.0\n",
       " 1.0\n",
       " 0.0\n",
       " 1.0"
      ]
     },
     "execution_count": 19,
     "metadata": {},
     "output_type": "execute_result"
    }
   ],
   "source": [
    "rng = MersenneTwister(42) # random number generator with a reproducible seed\n",
    "n = 10\n",
    "p = 0.75\n",
    "distribution = Bernoulli(p) # Bernoulli distribution\n",
    "\n",
    "dataset = float.(rand(rng, Bernoulli(p), n)) # sample the Bernoulli distribution 10 times"
   ]
  },
  {
   "cell_type": "code",
   "execution_count": null,
   "id": "7cf380dc-cd14-427b-86b5-847f57da04e9",
   "metadata": {},
   "outputs": [],
   "source": []
  }
 ],
 "metadata": {
  "kernelspec": {
   "display_name": "Julia 1.8.2",
   "language": "julia",
   "name": "julia-1.8"
  },
  "language_info": {
   "file_extension": ".jl",
   "mimetype": "application/julia",
   "name": "julia",
   "version": "1.8.2"
  }
 },
 "nbformat": 4,
 "nbformat_minor": 5
}
